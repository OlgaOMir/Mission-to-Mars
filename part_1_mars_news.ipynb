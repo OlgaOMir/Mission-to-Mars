{
 "cells": [
  {
   "cell_type": "markdown",
   "metadata": {},
   "source": [
    "# Module 12 Challenge\n",
    "## Deliverable 1: Scrape Titles and Preview Text from Mars News"
   ]
  },
  {
   "cell_type": "code",
   "execution_count": 1,
   "metadata": {},
   "outputs": [],
   "source": [
    "# Import Splinter and BeautifulSoup\n",
    "from splinter import Browser\n",
    "from bs4 import BeautifulSoup as soup\n",
    "from webdriver_manager.chrome import ChromeDriverManager"
   ]
  },
  {
   "cell_type": "code",
   "execution_count": 2,
   "metadata": {
    "scrolled": true
   },
   "outputs": [],
   "source": [
    "executable_path = {'executable_path': ChromeDriverManager().install()}\n",
    "browser = Browser('chrome', **executable_path, headless=False)"
   ]
  },
  {
   "cell_type": "markdown",
   "metadata": {},
   "source": [
    "### Step 1: Visit the Website\n",
    "\n",
    "1. Use automated browsing to visit the [Mars NASA news site](https://redplanetscience.com). Inspect the page to identify which elements to scrape.\n",
    "\n",
    "      > **Hint** To identify which elements to scrape, you might want to inspect the page by using Chrome DevTools."
   ]
  },
  {
   "cell_type": "code",
   "execution_count": 3,
   "metadata": {},
   "outputs": [],
   "source": [
    "# Visit the Mars NASA news site: https://redplanetscience.com\n",
    "# Visit the Mars Facts site\n",
    "url = 'https://redplanetscience.com'\n",
    "browser.visit(url)"
   ]
  },
  {
   "cell_type": "markdown",
   "metadata": {},
   "source": [
    "### Step 2: Scrape the Website\n",
    "\n",
    "Create a Beautiful Soup object and use it to extract text elements from the website."
   ]
  },
  {
   "cell_type": "code",
   "execution_count": 4,
   "metadata": {},
   "outputs": [],
   "source": [
    "# Create a Beautiful Soup object\n",
    "html = browser.html\n",
    "news_soup = soup(html, 'html.parser')"
   ]
  },
  {
   "cell_type": "code",
   "execution_count": 11,
   "metadata": {},
   "outputs": [],
   "source": [
    "# Extract all the text elements\n",
    "text_elems = news_soup.find_all('div', class_=\"list_text\")\n"
   ]
  },
  {
   "cell_type": "markdown",
   "metadata": {},
   "source": [
    "### Step 3: Store the Results\n",
    "\n",
    "Extract the titles and preview text of the news articles that you scraped. Store the scraping results in Python data structures as follows:\n",
    "\n",
    "* Store each title-and-preview pair in a Python dictionary. And, give each dictionary two keys: `title` and `preview`. An example is the following:\n",
    "\n",
    "  ```python\n",
    "  {'title': \"Mars Rover Begins Mission!\", \n",
    "        'preview': \"NASA's Mars Rover begins a multiyear mission to collect data about the little-explored planet.\"}\n",
    "  ```\n",
    "\n",
    "* Store all the dictionaries in a Python list.\n",
    "\n",
    "* Print the list in your notebook."
   ]
  },
  {
   "cell_type": "code",
   "execution_count": 6,
   "metadata": {},
   "outputs": [],
   "source": [
    "# Create an empty list to store the dictionaries\n",
    "mars_articles = []"
   ]
  },
  {
   "cell_type": "code",
   "execution_count": 12,
   "metadata": {},
   "outputs": [],
   "source": [
    "# Loop through the text elements\n",
    "# Extract the title and preview text from the elements\n",
    "# Store each title and preview pair in a dictionary\n",
    "# Add the dictionary to the list\n",
    "for elem in text_elems:\n",
    "    title = elem.find('div', class_='content_title').text.strip()\n",
    "    preview = elem.find('div', class_='article_teaser_body').text.strip()\n",
    "    \n",
    "    summary_dict = {'title': title,\n",
    "                   'preview': preview}\n",
    "    mars_articles.append(summary_dict)"
   ]
  },
  {
   "cell_type": "code",
   "execution_count": 13,
   "metadata": {},
   "outputs": [
    {
     "data": {
      "text/plain": [
       "[{'title': \"NASA's Curiosity Rover Finds an Ancient Oasis on Mars\",\n",
       "  'preview': \"New evidence suggests salty, shallow ponds once dotted a Martian crater — a sign of the planet's drying climate.\"},\n",
       " {'title': 'Global Storms on Mars Launch Dust Towers Into the Sky',\n",
       "  'preview': 'A Mars Dust Tower Stands Out Dust storms are common on Mars. But every decade or so, something unpredictable happens: a series of runaway storms break out, covering the entire planet in a dusty haze.'},\n",
       " {'title': \"NASA's Perseverance Rover Bringing 3D-Printed Metal Parts to Mars\",\n",
       "  'preview': \"For hobbyists and makers, 3D printing expands creative possibilities; for specialized engineers, it's also key to next-generation spacecraft design.\"},\n",
       " {'title': 'Mars Is Getting a New Robotic Meteorologist',\n",
       "  'preview': \"Sensors on NASA's Perseverance will help prepare for future human exploration by taking weather measurements and studying dust particles.\"},\n",
       " {'title': \"NASA's Mars Perseverance Rover Passes Flight Readiness Review\",\n",
       "  'preview': \"\\u200bThe agency's Mars 2020 mission has one more big prelaunch review – the Launch Readiness Review, on July 27.\"},\n",
       " {'title': \"Mars InSight Lander to Push on Top of the 'Mole'\",\n",
       "  'preview': 'Engineers have a plan for pushing down on the heat probe, which has been stuck at the Martian surface for a year.'},\n",
       " {'title': 'The Man Who Wanted to Fly on Mars',\n",
       "  'preview': \"The Mars Helicopter is riding to the Red Planet this summer with NASA's Perseverance rover. The helicopter's chief engineer, Bob Balaram, shares the saga of how it came into being.\"},\n",
       " {'title': \"InSight's 'Mole' Team Peers into the Pit\",\n",
       "  'preview': 'Efforts to save the heat probe continue.'},\n",
       " {'title': \"While Stargazing on Mars, NASA's Curiosity Rover Spots Earth and Venus\",\n",
       "  'preview': \"This new portrait of the Red Planet's neighbors was taken during a time when there's more dust in the air on Mars.\"},\n",
       " {'title': \"The Detective Aboard NASA's Perseverance Rover\",\n",
       "  'preview': 'An instrument called SHERLOC will, with the help of its partner WATSON, hunt for signs of ancient life by detecting organic molecules and minerals.'},\n",
       " {'title': \"NASA's Briefcase-Size MarCO Satellite Picks Up Honors\",\n",
       "  'preview': 'The twin spacecraft, the first of their kind to fly into deep space, earn a Laureate from Aviation Week & Space Technology.'},\n",
       " {'title': \"A New Video Captures the Science of NASA's Perseverance Mars Rover\",\n",
       "  'preview': 'With a targeted launch date of July 30, the next robotic scientist NASA is sending to the to the Red Planet has big ambitions.'},\n",
       " {'title': \"NASA-JPL Names 'Rolling Stones Rock' on Mars\",\n",
       "  'preview': \"NASA's Mars InSight mission honored one of the biggest bands of all time at Pasadena concert.\"},\n",
       " {'title': \"NASA's Ingenuity Mars Helicopter Recharges Its Batteries in Flight\",\n",
       "  'preview': 'Headed to the Red Planet with the Perseverance rover, the pioneering helicopter is powered up for the first time in interplanetary space as part of a systems check.'},\n",
       " {'title': \"NASA's Curiosity Keeps Rolling As Team Operates Rover From Home\",\n",
       "  'preview': 'The team has learned to meet new challenges as they work remotely on the Mars mission.'}]"
      ]
     },
     "execution_count": 13,
     "metadata": {},
     "output_type": "execute_result"
    }
   ],
   "source": [
    "# Print the list to confirm success\n",
    "mars_articles"
   ]
  },
  {
   "cell_type": "code",
   "execution_count": 14,
   "metadata": {},
   "outputs": [],
   "source": [
    "browser.quit()"
   ]
  },
  {
   "cell_type": "markdown",
   "metadata": {},
   "source": [
    "### (Optional) Step 4: Export the Data\n",
    "\n",
    "Optionally, store the scraped data in a file or database (to ease sharing the data with others). To do so, export the scraped data to either a JSON file or a MongoDB database."
   ]
  },
  {
   "cell_type": "code",
   "execution_count": 16,
   "metadata": {},
   "outputs": [
    {
     "name": "stdout",
     "output_type": "stream",
     "text": [
      "[{\"title\": \"NASA's Curiosity Rover Finds an Ancient Oasis on Mars\", \"preview\": \"New evidence suggests salty, shallow ponds once dotted a Martian crater \\u2014 a sign of the planet's drying climate.\"}, {\"title\": \"Global Storms on Mars Launch Dust Towers Into the Sky\", \"preview\": \"A Mars Dust Tower Stands Out Dust storms are common on Mars. But every decade or so, something unpredictable happens: a series of runaway storms break out, covering the entire planet in a dusty haze.\"}, {\"title\": \"NASA's Perseverance Rover Bringing 3D-Printed Metal Parts to Mars\", \"preview\": \"For hobbyists and makers, 3D printing expands creative possibilities; for specialized engineers, it's also key to next-generation spacecraft design.\"}, {\"title\": \"Mars Is Getting a New Robotic Meteorologist\", \"preview\": \"Sensors on NASA's Perseverance will help prepare for future human exploration by taking weather measurements and studying dust particles.\"}, {\"title\": \"NASA's Mars Perseverance Rover Passes Flight Readiness Review\", \"preview\": \"\\u200bThe agency's Mars 2020 mission has one more big prelaunch review \\u2013 the Launch Readiness Review, on July 27.\"}, {\"title\": \"Mars InSight Lander to Push on Top of the 'Mole'\", \"preview\": \"Engineers have a plan for pushing down on the heat probe, which has been stuck at the Martian surface for a year.\"}, {\"title\": \"The Man Who Wanted to Fly on Mars\", \"preview\": \"The Mars Helicopter is riding to the Red Planet this summer with NASA's Perseverance rover. The helicopter's chief engineer, Bob Balaram, shares the saga of how it came into being.\"}, {\"title\": \"InSight's 'Mole' Team Peers into the Pit\", \"preview\": \"Efforts to save the heat probe continue.\"}, {\"title\": \"While Stargazing on Mars, NASA's Curiosity Rover Spots Earth and Venus\", \"preview\": \"This new portrait of the Red Planet's neighbors was taken during a time when there's more dust in the air on Mars.\"}, {\"title\": \"The Detective Aboard NASA's Perseverance Rover\", \"preview\": \"An instrument called SHERLOC will, with the help of its partner WATSON, hunt for signs of ancient life by detecting organic molecules and minerals.\"}, {\"title\": \"NASA's Briefcase-Size MarCO Satellite Picks Up Honors\", \"preview\": \"The twin spacecraft, the first of their kind to fly into deep space, earn a Laureate from Aviation Week & Space Technology.\"}, {\"title\": \"A New Video Captures the Science of NASA's Perseverance Mars Rover\", \"preview\": \"With a targeted launch date of July 30, the next robotic scientist NASA is sending to the to the Red Planet has big ambitions.\"}, {\"title\": \"NASA-JPL Names 'Rolling Stones Rock' on Mars\", \"preview\": \"NASA's Mars InSight mission honored one of the biggest bands of all time at Pasadena concert.\"}, {\"title\": \"NASA's Ingenuity Mars Helicopter Recharges Its Batteries in Flight\", \"preview\": \"Headed to the Red Planet with the Perseverance rover, the pioneering helicopter is powered up for the first time in interplanetary space as part of a systems check.\"}, {\"title\": \"NASA's Curiosity Keeps Rolling As Team Operates Rover From Home\", \"preview\": \"The team has learned to meet new challenges as they work remotely on the Mars mission.\"}]\n"
     ]
    }
   ],
   "source": [
    "# Export data to JSON\n",
    "import json \n",
    "jsonStr = json.dumps(mars_articles)\n",
    "print(jsonStr)"
   ]
  },
  {
   "cell_type": "code",
   "execution_count": null,
   "metadata": {},
   "outputs": [],
   "source": [
    "# Export data to MongoDB\n"
   ]
  }
 ],
 "metadata": {
  "kernelspec": {
   "display_name": "Python 3 (ipykernel)",
   "language": "python",
   "name": "python3"
  },
  "language_info": {
   "codemirror_mode": {
    "name": "ipython",
    "version": 3
   },
   "file_extension": ".py",
   "mimetype": "text/x-python",
   "name": "python",
   "nbconvert_exporter": "python",
   "pygments_lexer": "ipython3",
   "version": "3.7.13"
  }
 },
 "nbformat": 4,
 "nbformat_minor": 4
}
